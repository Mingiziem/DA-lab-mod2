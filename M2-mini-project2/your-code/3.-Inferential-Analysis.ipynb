{
 "cells": [
  {
   "cell_type": "markdown",
   "metadata": {},
   "source": [
    "# Inferential statistics\n",
    "## Part III - Inferential Analysis\n",
    "\n",
    "We're now going to look for answers to the ongoing basketball discussions between you and your family. The main ones we want to reasearch are the following:\n",
    "\n",
    "- Your grandmother says that your sister couldn't play in a professional basketball league (not only the WNBA, but ANY professional basketball league) because she's too skinny and lacks muscle.\n",
    "- Your sister says that most female professional players fail their free throws.\n",
    "- Your brother-in-law heard on the TV that the average assists among NBA (male) and WNBA (female) players is 52 for the 2016-2017 season. He is convinced this average would be higher if we only considered the players from the WNBA.\n",
    "\n",
    "Let's investigate these claims and see if we can find proof to refute or support them.\n",
    "\n",
    "### Libraries\n",
    "Import the necessary libraries first."
   ]
  },
  {
   "cell_type": "code",
   "execution_count": 4,
   "metadata": {},
   "outputs": [],
   "source": [
    "# Libraries\n",
    "import math\n",
    "import pandas as pd\n",
    "import numpy as np\n",
    "from scipy import stats\n",
    "import matplotlib.pyplot as plt\n",
    "from scipy.stats import ttest_1samp\n",
    "pd.set_option('max_columns', 50)"
   ]
  },
  {
   "cell_type": "markdown",
   "metadata": {},
   "source": [
    "### Load the dataset\n",
    "\n",
    "Load the cleaned dataset."
   ]
  },
  {
   "cell_type": "code",
   "execution_count": 5,
   "metadata": {},
   "outputs": [],
   "source": [
    "#your code here"
   ]
  },
  {
   "cell_type": "code",
   "execution_count": 46,
   "metadata": {},
   "outputs": [
    {
     "data": {
      "image/png": "[encoded data removed]",
      "text/plain": [
       "<Figure size 720x288 with 1 Axes>"
      ]
     },
     "metadata": {
      "needs_background": "light"
     },
     "output_type": "display_data"
    }
   ],
   "source": [
    "data = pd.read_csv(\"wnba_clean.csv\", sep=\",\")\n",
    "data = data[data.AST >= 0]\n",
    "H, edges = np.histogram(data.AST, bins=2)\n",
    "\n",
    "plt.figure(figsize=(10, 4))\n",
    "ax = plt.subplot(111)\n",
    "ax.bar(edges[:-1], H / float(sum(H)), width=edges[1] - edges[0])\n",
    "ax.text(0.9, 0.9, \"%g AST\" % len(data),\n",
    "        horizontalalignment=\"right\", transform=ax.transAxes)\n",
    "ax.set_xlabel(\"Assist\")\n",
    "ax.set_ylabel(\"Probability of Assist\")\n",
    "ax.minorticks_on()\n",
    "plt.show()\n"
   ]
  },
  {
   "cell_type": "code",
   "execution_count": 33,
   "metadata": {},
   "outputs": [
    {
     "data": {
      "image/png": "[encoded data removed]",
      "text/plain": [
       "<Figure size 720x288 with 1 Axes>"
      ]
     },
     "metadata": {
      "needs_background": "light"
     },
     "output_type": "display_data"
    }
   ],
   "source": [
    "H, edges = np.histogram(data.AST, bins=4)\n",
    "\n",
    "plt.figure(figsize=(10, 4))\n",
    "ax = plt.subplot(111)\n",
    "ax.bar(edges[:-1], H / float(sum(H)), width=edges[1] - edges[0])\n",
    "ax.text(0.9, 0.9, \"%g AST\" % len(data),\n",
    "        horizontalalignment=\"right\", transform=ax.transAxes)\n",
    "ax.set_xlabel(\"Assist\")\n",
    "ax.set_ylabel(\"Probability of range of assist\")\n",
    "ax.minorticks_on()\n",
    "plt.show()"
   ]
  },
  {
   "cell_type": "code",
   "execution_count": 34,
   "metadata": {},
   "outputs": [
    {
     "data": {
      "image/png": "[encoded data removed]",
      "text/plain": [
       "<Figure size 720x288 with 1 Axes>"
      ]
     },
     "metadata": {
      "needs_background": "light"
     },
     "output_type": "display_data"
    }
   ],
   "source": [
    "H, edges = np.histogram(data.AST, bins=20)\n",
    "\n",
    "plt.figure(figsize=(10, 4))\n",
    "ax = plt.subplot(111)\n",
    "ax.bar(edges[:-1], H / float(sum(H)), width=edges[1] - edges[0])\n",
    "ax.text(0.9, 0.9, \"%g Assist\" % len(data),\n",
    "        horizontalalignment=\"right\", transform=ax.transAxes)\n",
    "ax.set_xlabel(\"Assist\")\n",
    "ax.set_ylabel(\"Probability of Assist\")\n",
    "ax.minorticks_on()\n",
    "plt.show()"
   ]
  },
  {
   "cell_type": "code",
   "execution_count": null,
   "metadata": {},
   "outputs": [],
   "source": []
  },
  {
   "cell_type": "code",
   "execution_count": 2,
   "metadata": {},
   "outputs": [
    {
     "ename": "NameError",
     "evalue": "name 'np' is not defined",
     "output_type": "error",
     "traceback": [
      "\u001b[1;31m---------------------------------------------------------------------------\u001b[0m",
      "\u001b[1;31mNameError\u001b[0m                                 Traceback (most recent call last)",
      "\u001b[1;32m<ipython-input-2-93805a4c1cb4>\u001b[0m in \u001b[0;36m<module>\u001b[1;34m\u001b[0m\n\u001b[1;32m----> 1\u001b[1;33m \u001b[0mH\u001b[0m\u001b[1;33m,\u001b[0m \u001b[0medges\u001b[0m \u001b[1;33m=\u001b[0m \u001b[0mnp\u001b[0m\u001b[1;33m.\u001b[0m\u001b[0mhistogram\u001b[0m\u001b[1;33m(\u001b[0m\u001b[0mdata\u001b[0m\u001b[1;33m.\u001b[0m\u001b[0mAST\u001b[0m\u001b[1;33m,\u001b[0m \u001b[0mbins\u001b[0m\u001b[1;33m=\u001b[0m\u001b[1;36m50\u001b[0m\u001b[1;33m)\u001b[0m\u001b[1;33m\u001b[0m\u001b[1;33m\u001b[0m\u001b[0m\n\u001b[0m\u001b[0;32m      2\u001b[0m \u001b[1;33m\u001b[0m\u001b[0m\n\u001b[0;32m      3\u001b[0m \u001b[0mplt\u001b[0m\u001b[1;33m.\u001b[0m\u001b[0mfigure\u001b[0m\u001b[1;33m(\u001b[0m\u001b[0mfigsize\u001b[0m\u001b[1;33m=\u001b[0m\u001b[1;33m(\u001b[0m\u001b[1;36m10\u001b[0m\u001b[1;33m,\u001b[0m \u001b[1;36m4\u001b[0m\u001b[1;33m)\u001b[0m\u001b[1;33m)\u001b[0m\u001b[1;33m\u001b[0m\u001b[1;33m\u001b[0m\u001b[0m\n\u001b[0;32m      4\u001b[0m \u001b[0max\u001b[0m \u001b[1;33m=\u001b[0m \u001b[0mplt\u001b[0m\u001b[1;33m.\u001b[0m\u001b[0msubplot\u001b[0m\u001b[1;33m(\u001b[0m\u001b[1;36m111\u001b[0m\u001b[1;33m)\u001b[0m\u001b[1;33m\u001b[0m\u001b[1;33m\u001b[0m\u001b[0m\n\u001b[0;32m      5\u001b[0m \u001b[0max\u001b[0m\u001b[1;33m.\u001b[0m\u001b[0mbar\u001b[0m\u001b[1;33m(\u001b[0m\u001b[0medges\u001b[0m\u001b[1;33m[\u001b[0m\u001b[1;33m:\u001b[0m\u001b[1;33m-\u001b[0m\u001b[1;36m1\u001b[0m\u001b[1;33m]\u001b[0m\u001b[1;33m,\u001b[0m \u001b[0mH\u001b[0m \u001b[1;33m/\u001b[0m \u001b[0mfloat\u001b[0m\u001b[1;33m(\u001b[0m\u001b[0msum\u001b[0m\u001b[1;33m(\u001b[0m\u001b[0mH\u001b[0m\u001b[1;33m)\u001b[0m\u001b[1;33m)\u001b[0m\u001b[1;33m,\u001b[0m \u001b[0mwidth\u001b[0m\u001b[1;33m=\u001b[0m\u001b[0medges\u001b[0m\u001b[1;33m[\u001b[0m\u001b[1;36m1\u001b[0m\u001b[1;33m]\u001b[0m \u001b[1;33m-\u001b[0m \u001b[0medges\u001b[0m\u001b[1;33m[\u001b[0m\u001b[1;36m0\u001b[0m\u001b[1;33m]\u001b[0m\u001b[1;33m)\u001b[0m\u001b[1;33m\u001b[0m\u001b[1;33m\u001b[0m\u001b[0m\n",
      "\u001b[1;31mNameError\u001b[0m: name 'np' is not defined"
     ]
    }
   ],
   "source": [
    "H, edges = np.histogram(data.AST, bins=50)\n",
    "\n",
    "plt.figure(figsize=(10, 4))\n",
    "ax = plt.subplot(111)\n",
    "ax.bar(edges[:-1], H / float(sum(H)), width=edges[1] - edges[0])\n",
    "ax.text(0.9, 0.9, \"%g loans\" % len(data),\n",
    "        horizontalalignment=\"right\", transform=ax.transAxes)\n",
    "ax.set_xlabel(\"Assist )\")\n",
    "ax.set_ylabel(\"probability of Assist range\")\n",
    "ax.minorticks_on()\n",
    "plt.show()"
   ]
  },
  {
   "cell_type": "markdown",
   "metadata": {},
   "source": [
    "Note that here I use ax to access the plot space of the figure, so that I can place text wherever I want it. If I don’t use the transform parameter, then if I want to place text on a figure I have to specify the exact coordinates in the data space for where I want it to be. With transforming to the coordinate space of the figure, I can use the fact that coordinate space goes from 0 to 1 horizontally and vertically to place text easily.\n",
    "\n",
    "One issue is that if you use ax, you set axis labels using ax.set_xlabel and ax.set_ylabel instead of the normal methods with plt.xlabel and plt.ylabel. Similar for setting axis limits.\n",
    "\n",
    "Also note that with numpy arrays (and pandas DataFrames), you can perform arithmetic on the entire object at once. Also note that with numpy arrays specifically, you cannot alter the size of the array once it’s been created. Fixed-size arrays make it faster, but the immutability of size can be a little difficult. At least you can alter the values inside the array easily through indexing."
   ]
  },
  {
   "cell_type": "code",
   "execution_count": 49,
   "metadata": {},
   "outputs": [
    {
     "data": {
      "image/png": "[encoded data removed]",
      "text/plain": [
       "<Figure size 576x288 with 1 Axes>"
      ]
     },
     "metadata": {
      "needs_background": "light"
     },
     "output_type": "display_data"
    }
   ],
   "source": [
    "data = pd.read_csv(\"wnba_clean.csv\", sep=\",\")\n",
    "del data\n",
    "\n",
    "def gaussian(x, mu, std):\n",
    "    return (1. / np.sqrt(2 * np.pi * std**2) * np.exp(-0.5 * ((x - mu) / std)**2))\n",
    "x = np.linspace(-4, 4, 1000)\n",
    "fig = plt.figure(figsize=(8, 4))\n",
    "plt.plot(x, gaussian(x, 0, 0.5), label=\"$\\mu = 0, \\sigma = 0.5$\")\n",
    "plt.plot(x, gaussian(x, 0, 1), label=\"$\\mu = 0, \\sigma = 1$\")\n",
    "plt.plot(x, gaussian(x, 0, 2), label=\"$\\mu = 0, \\sigma = 2$\")\n",
    "plt.xlabel(\"$x$\", fontsize=16)\n",
    "plt.ylabel(\"$p(x)$\", fontsize=16)\n",
    "plt.legend()\n",
    "plt.show()"
   ]
  },
  {
   "cell_type": "markdown",
   "metadata": {},
   "source": [
    "Hypothesis: The Assist during the that season was significantly different than the Assist during this season\n",
    "Null hypothesis: The Assist during the season wasn’t significantly different\n",
    "Define terms:\n",
    "Season 2017:2016-2018\n",
    "Season 2019: 2018 through 2019\n",
    "Combined Assist:"
   ]
  },
  {
   "cell_type": "code",
   "execution_count": 53,
   "metadata": {},
   "outputs": [],
   "source": [
    "wbn_data = pd.read_csv(\"wnba_clean.csv\", sep=\",\")\n",
    "Nba_data = pd.read_csv(\"NBA.csv\", sep=\",\")\n"
   ]
  },
  {
   "cell_type": "markdown",
   "metadata": {},
   "source": [
    "H, edges = np.histogram(data.AST, bins=np.linspace(0, 52, 202))\n",
    "incomes = [25, 52, 190]\n",
    "\n",
    "fig = plt.figure(figsize=(10, 6))\n",
    "fig.subplots_adjust(hspace=0) # smooshes vertical subplots together\n",
    "ax = plt.subplot(211) # 2 rows, 1 column, put this figure in the first cell\n",
    "ax.bar(edges[:-1], H / float(sum(H)), width=edges[1] - edges[0])\n",
    "for ii in incomes:\n",
    "    ax.plot([ii, ii], [0, 0.06], linestyle=\"--\", color='k')\n",
    "ax.set_ylabel(\"Probability of Income Range\")\n",
    "ax.set_xticklabels([]) # kills the numbers on the x-axis for this plot\n",
    "ax.minorticks_on()\n",
    "\n",
    "ax = plt.subplot(212) # 2 rows, 1 column, put this figure in the first cell\n",
    "probabilities = H / float(sum(H))\n",
    "ax.plot(edges[:-1], probabilities, linewidth=5, color=\"r\")\n",
    "for ii in incomes:\n",
    "    prob = probabilities[edges[:-1] == ii]\n",
    "    ax.plot([ii, ii], [0, prob])\n",
    "    ax.plot([0, ii], [prob, prob], linestyle=\"--\", color='k')\n",
    "    ax.text(ii + 2.5E2, prob * 0.5, \"p(x): %.2f\" % prob)\n",
    "ax.set_xlabel(\"Stated Monthly Income ($)\")\n",
    "ax.set_ylabel(\"Cumulative Probability\")\n",
    "ax.set_ylim(0, 0.99)\n",
    "ax.minorticks_on()\n",
    "plt.savefig(\"../downloads/cumulative_distribution.png\")\n",
    "plt.show()"
   ]
  },
  {
   "cell_type": "code",
   "execution_count": 57,
   "metadata": {},
   "outputs": [
    {
     "data": {
      "text/html": [
       "<div>\n",
       "<style scoped>\n",
       "    .dataframe tbody tr th:only-of-type {\n",
       "        vertical-align: middle;\n",
       "    }\n",
       "\n",
       "    .dataframe tbody tr th {\n",
       "        vertical-align: top;\n",
       "    }\n",
       "\n",
       "    .dataframe thead th {\n",
       "        text-align: right;\n",
       "    }\n",
       "</style>\n",
       "<table border=\"1\" class=\"dataframe\">\n",
       "  <thead>\n",
       "    <tr style=\"text-align: right;\">\n",
       "      <th></th>\n",
       "      <th>Unnamed: 0</th>\n",
       "      <th>Name</th>\n",
       "      <th>Team</th>\n",
       "      <th>Pos</th>\n",
       "      <th>Height</th>\n",
       "      <th>Weight</th>\n",
       "      <th>BMI</th>\n",
       "      <th>Birth_Place</th>\n",
       "      <th>Birthdate</th>\n",
       "      <th>Age</th>\n",
       "      <th>College</th>\n",
       "      <th>Experience</th>\n",
       "      <th>Games Played</th>\n",
       "      <th>MIN</th>\n",
       "      <th>FGM</th>\n",
       "      <th>FGA</th>\n",
       "      <th>FG%</th>\n",
       "      <th>3PM</th>\n",
       "      <th>3PA</th>\n",
       "      <th>3P%</th>\n",
       "      <th>FTM</th>\n",
       "      <th>FTA</th>\n",
       "      <th>FT%</th>\n",
       "      <th>OREB</th>\n",
       "      <th>DREB</th>\n",
       "      <th>REB</th>\n",
       "      <th>AST</th>\n",
       "      <th>STL</th>\n",
       "      <th>BLK</th>\n",
       "      <th>TO</th>\n",
       "      <th>PTS</th>\n",
       "      <th>DD2</th>\n",
       "      <th>TD3</th>\n",
       "      <th>TOV</th>\n",
       "      <th>PF</th>\n",
       "      <th>EFF</th>\n",
       "      <th>AST/TOV</th>\n",
       "      <th>STL/TOV</th>\n",
       "      <th>Collage</th>\n",
       "    </tr>\n",
       "  </thead>\n",
       "  <tbody>\n",
       "    <tr>\n",
       "      <th>0</th>\n",
       "      <td>0.0</td>\n",
       "      <td>Aerial Powers</td>\n",
       "      <td>DAL</td>\n",
       "      <td>F</td>\n",
       "      <td>183.0</td>\n",
       "      <td>71.0</td>\n",
       "      <td>21.200991</td>\n",
       "      <td>US</td>\n",
       "      <td>January 17, 1994</td>\n",
       "      <td>23.0</td>\n",
       "      <td>Michigan State</td>\n",
       "      <td>2</td>\n",
       "      <td>8</td>\n",
       "      <td>173</td>\n",
       "      <td>30</td>\n",
       "      <td>85</td>\n",
       "      <td>35.3</td>\n",
       "      <td>12</td>\n",
       "      <td>32</td>\n",
       "      <td>37.5</td>\n",
       "      <td>21</td>\n",
       "      <td>26</td>\n",
       "      <td>80.8</td>\n",
       "      <td>6</td>\n",
       "      <td>22</td>\n",
       "      <td>28</td>\n",
       "      <td>12</td>\n",
       "      <td>3</td>\n",
       "      <td>6</td>\n",
       "      <td>12.0</td>\n",
       "      <td>93</td>\n",
       "      <td>0.0</td>\n",
       "      <td>0.0</td>\n",
       "      <td>NaN</td>\n",
       "      <td>NaN</td>\n",
       "      <td>NaN</td>\n",
       "      <td>NaN</td>\n",
       "      <td>NaN</td>\n",
       "      <td>NaN</td>\n",
       "    </tr>\n",
       "    <tr>\n",
       "      <th>1</th>\n",
       "      <td>1.0</td>\n",
       "      <td>Alana Beard</td>\n",
       "      <td>LA</td>\n",
       "      <td>G/F</td>\n",
       "      <td>185.0</td>\n",
       "      <td>73.0</td>\n",
       "      <td>21.329438</td>\n",
       "      <td>US</td>\n",
       "      <td>May 14, 1982</td>\n",
       "      <td>35.0</td>\n",
       "      <td>Duke</td>\n",
       "      <td>12</td>\n",
       "      <td>30</td>\n",
       "      <td>947</td>\n",
       "      <td>90</td>\n",
       "      <td>177</td>\n",
       "      <td>50.8</td>\n",
       "      <td>5</td>\n",
       "      <td>18</td>\n",
       "      <td>27.8</td>\n",
       "      <td>32</td>\n",
       "      <td>41</td>\n",
       "      <td>78.0</td>\n",
       "      <td>19</td>\n",
       "      <td>82</td>\n",
       "      <td>101</td>\n",
       "      <td>72</td>\n",
       "      <td>63</td>\n",
       "      <td>13</td>\n",
       "      <td>40.0</td>\n",
       "      <td>217</td>\n",
       "      <td>0.0</td>\n",
       "      <td>0.0</td>\n",
       "      <td>NaN</td>\n",
       "      <td>NaN</td>\n",
       "      <td>NaN</td>\n",
       "      <td>NaN</td>\n",
       "      <td>NaN</td>\n",
       "      <td>NaN</td>\n",
       "    </tr>\n",
       "    <tr>\n",
       "      <th>2</th>\n",
       "      <td>2.0</td>\n",
       "      <td>Alex Bentley</td>\n",
       "      <td>CON</td>\n",
       "      <td>G</td>\n",
       "      <td>170.0</td>\n",
       "      <td>69.0</td>\n",
       "      <td>23.875433</td>\n",
       "      <td>US</td>\n",
       "      <td>October 27, 1990</td>\n",
       "      <td>26.0</td>\n",
       "      <td>Penn State</td>\n",
       "      <td>4</td>\n",
       "      <td>26</td>\n",
       "      <td>617</td>\n",
       "      <td>82</td>\n",
       "      <td>218</td>\n",
       "      <td>37.6</td>\n",
       "      <td>19</td>\n",
       "      <td>64</td>\n",
       "      <td>29.7</td>\n",
       "      <td>35</td>\n",
       "      <td>42</td>\n",
       "      <td>83.3</td>\n",
       "      <td>4</td>\n",
       "      <td>36</td>\n",
       "      <td>40</td>\n",
       "      <td>78</td>\n",
       "      <td>22</td>\n",
       "      <td>3</td>\n",
       "      <td>24.0</td>\n",
       "      <td>218</td>\n",
       "      <td>0.0</td>\n",
       "      <td>0.0</td>\n",
       "      <td>NaN</td>\n",
       "      <td>NaN</td>\n",
       "      <td>NaN</td>\n",
       "      <td>NaN</td>\n",
       "      <td>NaN</td>\n",
       "      <td>NaN</td>\n",
       "    </tr>\n",
       "    <tr>\n",
       "      <th>3</th>\n",
       "      <td>3.0</td>\n",
       "      <td>Alex Montgomery</td>\n",
       "      <td>SAN</td>\n",
       "      <td>G/F</td>\n",
       "      <td>185.0</td>\n",
       "      <td>84.0</td>\n",
       "      <td>24.543462</td>\n",
       "      <td>US</td>\n",
       "      <td>December 11, 1988</td>\n",
       "      <td>28.0</td>\n",
       "      <td>Georgia Tech</td>\n",
       "      <td>6</td>\n",
       "      <td>31</td>\n",
       "      <td>721</td>\n",
       "      <td>75</td>\n",
       "      <td>195</td>\n",
       "      <td>38.5</td>\n",
       "      <td>21</td>\n",
       "      <td>68</td>\n",
       "      <td>30.9</td>\n",
       "      <td>17</td>\n",
       "      <td>21</td>\n",
       "      <td>81.0</td>\n",
       "      <td>35</td>\n",
       "      <td>134</td>\n",
       "      <td>169</td>\n",
       "      <td>65</td>\n",
       "      <td>20</td>\n",
       "      <td>10</td>\n",
       "      <td>38.0</td>\n",
       "      <td>188</td>\n",
       "      <td>2.0</td>\n",
       "      <td>0.0</td>\n",
       "      <td>NaN</td>\n",
       "      <td>NaN</td>\n",
       "      <td>NaN</td>\n",
       "      <td>NaN</td>\n",
       "      <td>NaN</td>\n",
       "      <td>NaN</td>\n",
       "    </tr>\n",
       "    <tr>\n",
       "      <th>4</th>\n",
       "      <td>4.0</td>\n",
       "      <td>Alexis Jones</td>\n",
       "      <td>MIN</td>\n",
       "      <td>G</td>\n",
       "      <td>175.0</td>\n",
       "      <td>78.0</td>\n",
       "      <td>25.469388</td>\n",
       "      <td>US</td>\n",
       "      <td>August 5, 1994</td>\n",
       "      <td>23.0</td>\n",
       "      <td>Baylor</td>\n",
       "      <td>R</td>\n",
       "      <td>24</td>\n",
       "      <td>137</td>\n",
       "      <td>16</td>\n",
       "      <td>50</td>\n",
       "      <td>32.0</td>\n",
       "      <td>7</td>\n",
       "      <td>20</td>\n",
       "      <td>35.0</td>\n",
       "      <td>11</td>\n",
       "      <td>12</td>\n",
       "      <td>91.7</td>\n",
       "      <td>3</td>\n",
       "      <td>9</td>\n",
       "      <td>12</td>\n",
       "      <td>12</td>\n",
       "      <td>7</td>\n",
       "      <td>0</td>\n",
       "      <td>14.0</td>\n",
       "      <td>50</td>\n",
       "      <td>0.0</td>\n",
       "      <td>0.0</td>\n",
       "      <td>NaN</td>\n",
       "      <td>NaN</td>\n",
       "      <td>NaN</td>\n",
       "      <td>NaN</td>\n",
       "      <td>NaN</td>\n",
       "      <td>NaN</td>\n",
       "    </tr>\n",
       "    <tr>\n",
       "      <th>5</th>\n",
       "      <td>5.0</td>\n",
       "      <td>Alexis Peterson</td>\n",
       "      <td>SEA</td>\n",
       "      <td>G</td>\n",
       "      <td>170.0</td>\n",
       "      <td>63.0</td>\n",
       "      <td>21.799308</td>\n",
       "      <td>US</td>\n",
       "      <td>June 20, 1995</td>\n",
       "      <td>22.0</td>\n",
       "      <td>Syracuse</td>\n",
       "      <td>R</td>\n",
       "      <td>14</td>\n",
       "      <td>90</td>\n",
       "      <td>9</td>\n",
       "      <td>34</td>\n",
       "      <td>26.5</td>\n",
       "      <td>2</td>\n",
       "      <td>9</td>\n",
       "      <td>22.2</td>\n",
       "      <td>6</td>\n",
       "      <td>6</td>\n",
       "      <td>100.0</td>\n",
       "      <td>3</td>\n",
       "      <td>13</td>\n",
       "      <td>16</td>\n",
       "      <td>11</td>\n",
       "      <td>5</td>\n",
       "      <td>0</td>\n",
       "      <td>11.0</td>\n",
       "      <td>26</td>\n",
       "      <td>0.0</td>\n",
       "      <td>0.0</td>\n",
       "      <td>NaN</td>\n",
       "      <td>NaN</td>\n",
       "      <td>NaN</td>\n",
       "      <td>NaN</td>\n",
       "      <td>NaN</td>\n",
       "      <td>NaN</td>\n",
       "    </tr>\n",
       "    <tr>\n",
       "      <th>6</th>\n",
       "      <td>6.0</td>\n",
       "      <td>Alexis Prince</td>\n",
       "      <td>PHO</td>\n",
       "      <td>G</td>\n",
       "      <td>188.0</td>\n",
       "      <td>81.0</td>\n",
       "      <td>22.917610</td>\n",
       "      <td>US</td>\n",
       "      <td>February 5, 1994</td>\n",
       "      <td>23.0</td>\n",
       "      <td>Baylor</td>\n",
       "      <td>R</td>\n",
       "      <td>16</td>\n",
       "      <td>112</td>\n",
       "      <td>9</td>\n",
       "      <td>34</td>\n",
       "      <td>26.5</td>\n",
       "      <td>4</td>\n",
       "      <td>15</td>\n",
       "      <td>26.7</td>\n",
       "      <td>2</td>\n",
       "      <td>2</td>\n",
       "      <td>100.0</td>\n",
       "      <td>1</td>\n",
       "      <td>14</td>\n",
       "      <td>15</td>\n",
       "      <td>5</td>\n",
       "      <td>4</td>\n",
       "      <td>3</td>\n",
       "      <td>3.0</td>\n",
       "      <td>24</td>\n",
       "      <td>0.0</td>\n",
       "      <td>0.0</td>\n",
       "      <td>NaN</td>\n",
       "      <td>NaN</td>\n",
       "      <td>NaN</td>\n",
       "      <td>NaN</td>\n",
       "      <td>NaN</td>\n",
       "      <td>NaN</td>\n",
       "    </tr>\n",
       "    <tr>\n",
       "      <th>7</th>\n",
       "      <td>7.0</td>\n",
       "      <td>Allie Quigley</td>\n",
       "      <td>CHI</td>\n",
       "      <td>G</td>\n",
       "      <td>178.0</td>\n",
       "      <td>64.0</td>\n",
       "      <td>20.199470</td>\n",
       "      <td>US</td>\n",
       "      <td>June 20, 1986</td>\n",
       "      <td>31.0</td>\n",
       "      <td>DePaul</td>\n",
       "      <td>8</td>\n",
       "      <td>26</td>\n",
       "      <td>847</td>\n",
       "      <td>166</td>\n",
       "      <td>319</td>\n",
       "      <td>52.0</td>\n",
       "      <td>70</td>\n",
       "      <td>150</td>\n",
       "      <td>46.7</td>\n",
       "      <td>40</td>\n",
       "      <td>46</td>\n",
       "      <td>87.0</td>\n",
       "      <td>9</td>\n",
       "      <td>83</td>\n",
       "      <td>92</td>\n",
       "      <td>95</td>\n",
       "      <td>20</td>\n",
       "      <td>13</td>\n",
       "      <td>59.0</td>\n",
       "      <td>442</td>\n",
       "      <td>0.0</td>\n",
       "      <td>0.0</td>\n",
       "      <td>NaN</td>\n",
       "      <td>NaN</td>\n",
       "      <td>NaN</td>\n",
       "      <td>NaN</td>\n",
       "      <td>NaN</td>\n",
       "      <td>NaN</td>\n",
       "    </tr>\n",
       "    <tr>\n",
       "      <th>8</th>\n",
       "      <td>8.0</td>\n",
       "      <td>Allisha Gray</td>\n",
       "      <td>DAL</td>\n",
       "      <td>G</td>\n",
       "      <td>185.0</td>\n",
       "      <td>76.0</td>\n",
       "      <td>22.205990</td>\n",
       "      <td>US</td>\n",
       "      <td>October 20, 1992</td>\n",
       "      <td>24.0</td>\n",
       "      <td>South Carolina</td>\n",
       "      <td>2</td>\n",
       "      <td>30</td>\n",
       "      <td>834</td>\n",
       "      <td>131</td>\n",
       "      <td>346</td>\n",
       "      <td>37.9</td>\n",
       "      <td>29</td>\n",
       "      <td>103</td>\n",
       "      <td>28.2</td>\n",
       "      <td>104</td>\n",
       "      <td>129</td>\n",
       "      <td>80.6</td>\n",
       "      <td>52</td>\n",
       "      <td>75</td>\n",
       "      <td>127</td>\n",
       "      <td>40</td>\n",
       "      <td>47</td>\n",
       "      <td>19</td>\n",
       "      <td>37.0</td>\n",
       "      <td>395</td>\n",
       "      <td>0.0</td>\n",
       "      <td>0.0</td>\n",
       "      <td>NaN</td>\n",
       "      <td>NaN</td>\n",
       "      <td>NaN</td>\n",
       "      <td>NaN</td>\n",
       "      <td>NaN</td>\n",
       "      <td>NaN</td>\n",
       "    </tr>\n",
       "    <tr>\n",
       "      <th>9</th>\n",
       "      <td>9.0</td>\n",
       "      <td>Allison Hightower</td>\n",
       "      <td>WAS</td>\n",
       "      <td>G</td>\n",
       "      <td>178.0</td>\n",
       "      <td>77.0</td>\n",
       "      <td>24.302487</td>\n",
       "      <td>US</td>\n",
       "      <td>June 4, 1988</td>\n",
       "      <td>29.0</td>\n",
       "      <td>LSU</td>\n",
       "      <td>5</td>\n",
       "      <td>7</td>\n",
       "      <td>103</td>\n",
       "      <td>14</td>\n",
       "      <td>38</td>\n",
       "      <td>36.8</td>\n",
       "      <td>2</td>\n",
       "      <td>11</td>\n",
       "      <td>18.2</td>\n",
       "      <td>6</td>\n",
       "      <td>6</td>\n",
       "      <td>100.0</td>\n",
       "      <td>3</td>\n",
       "      <td>7</td>\n",
       "      <td>10</td>\n",
       "      <td>10</td>\n",
       "      <td>5</td>\n",
       "      <td>0</td>\n",
       "      <td>2.0</td>\n",
       "      <td>36</td>\n",
       "      <td>0.0</td>\n",
       "      <td>0.0</td>\n",
       "      <td>NaN</td>\n",
       "      <td>NaN</td>\n",
       "      <td>NaN</td>\n",
       "      <td>NaN</td>\n",
       "      <td>NaN</td>\n",
       "      <td>NaN</td>\n",
       "    </tr>\n",
       "  </tbody>\n",
       "</table>\n",
       "</div>"
      ],
      "text/plain": [
       "   Unnamed: 0               Name Team  Pos  Height  Weight        BMI  \\\n",
       "0         0.0      Aerial Powers  DAL    F   183.0    71.0  21.200991   \n",
       "1         1.0        Alana Beard   LA  G/F   185.0    73.0  21.329438   \n",
       "2         2.0       Alex Bentley  CON    G   170.0    69.0  23.875433   \n",
       "3         3.0    Alex Montgomery  SAN  G/F   185.0    84.0  24.543462   \n",
       "4         4.0       Alexis Jones  MIN    G   175.0    78.0  25.469388   \n",
       "5         5.0    Alexis Peterson  SEA    G   170.0    63.0  21.799308   \n",
       "6         6.0      Alexis Prince  PHO    G   188.0    81.0  22.917610   \n",
       "7         7.0      Allie Quigley  CHI    G   178.0    64.0  20.199470   \n",
       "8         8.0       Allisha Gray  DAL    G   185.0    76.0  22.205990   \n",
       "9         9.0  Allison Hightower  WAS    G   178.0    77.0  24.302487   \n",
       "\n",
       "  Birth_Place          Birthdate   Age         College Experience  \\\n",
       "0          US   January 17, 1994  23.0  Michigan State          2   \n",
       "1          US       May 14, 1982  35.0            Duke         12   \n",
       "2          US   October 27, 1990  26.0      Penn State          4   \n",
       "3          US  December 11, 1988  28.0    Georgia Tech          6   \n",
       "4          US     August 5, 1994  23.0          Baylor          R   \n",
       "5          US      June 20, 1995  22.0        Syracuse          R   \n",
       "6          US   February 5, 1994  23.0          Baylor          R   \n",
       "7          US      June 20, 1986  31.0          DePaul          8   \n",
       "8          US   October 20, 1992  24.0  South Carolina          2   \n",
       "9          US       June 4, 1988  29.0             LSU          5   \n",
       "\n",
       "   Games Played  MIN  FGM  FGA   FG%  3PM  3PA   3P%  FTM  FTA    FT%  OREB  \\\n",
       "0             8  173   30   85  35.3   12   32  37.5   21   26   80.8     6   \n",
       "1            30  947   90  177  50.8    5   18  27.8   32   41   78.0    19   \n",
       "2            26  617   82  218  37.6   19   64  29.7   35   42   83.3     4   \n",
       "3            31  721   75  195  38.5   21   68  30.9   17   21   81.0    35   \n",
       "4            24  137   16   50  32.0    7   20  35.0   11   12   91.7     3   \n",
       "5            14   90    9   34  26.5    2    9  22.2    6    6  100.0     3   \n",
       "6            16  112    9   34  26.5    4   15  26.7    2    2  100.0     1   \n",
       "7            26  847  166  319  52.0   70  150  46.7   40   46   87.0     9   \n",
       "8            30  834  131  346  37.9   29  103  28.2  104  129   80.6    52   \n",
       "9             7  103   14   38  36.8    2   11  18.2    6    6  100.0     3   \n",
       "\n",
       "   DREB  REB  AST  STL  BLK    TO  PTS  DD2  TD3  TOV  PF  EFF  AST/TOV  \\\n",
       "0    22   28   12    3    6  12.0   93  0.0  0.0  NaN NaN  NaN      NaN   \n",
       "1    82  101   72   63   13  40.0  217  0.0  0.0  NaN NaN  NaN      NaN   \n",
       "2    36   40   78   22    3  24.0  218  0.0  0.0  NaN NaN  NaN      NaN   \n",
       "3   134  169   65   20   10  38.0  188  2.0  0.0  NaN NaN  NaN      NaN   \n",
       "4     9   12   12    7    0  14.0   50  0.0  0.0  NaN NaN  NaN      NaN   \n",
       "5    13   16   11    5    0  11.0   26  0.0  0.0  NaN NaN  NaN      NaN   \n",
       "6    14   15    5    4    3   3.0   24  0.0  0.0  NaN NaN  NaN      NaN   \n",
       "7    83   92   95   20   13  59.0  442  0.0  0.0  NaN NaN  NaN      NaN   \n",
       "8    75  127   40   47   19  37.0  395  0.0  0.0  NaN NaN  NaN      NaN   \n",
       "9     7   10   10    5    0   2.0   36  0.0  0.0  NaN NaN  NaN      NaN   \n",
       "\n",
       "   STL/TOV Collage  \n",
       "0      NaN     NaN  \n",
       "1      NaN     NaN  \n",
       "2      NaN     NaN  \n",
       "3      NaN     NaN  \n",
       "4      NaN     NaN  \n",
       "5      NaN     NaN  \n",
       "6      NaN     NaN  \n",
       "7      NaN     NaN  \n",
       "8      NaN     NaN  \n",
       "9      NaN     NaN  "
      ]
     },
     "execution_count": 57,
     "metadata": {},
     "output_type": "execute_result"
    }
   ],
   "source": [
    "Combined_assist = pd.concat((wbn_data, Nba_data), ignore_index=True)\n",
    "Combined_assist.head(10)"
   ]
  },
  {
   "cell_type": "code",
   "execution_count": 58,
   "metadata": {},
   "outputs": [
    {
     "data": {
      "text/plain": [
       "0       12\n",
       "1       72\n",
       "2       78\n",
       "3       65\n",
       "4       12\n",
       "      ... \n",
       "627      3\n",
       "628    276\n",
       "629    153\n",
       "630    178\n",
       "631      5\n",
       "Name: AST, Length: 632, dtype: int64"
      ]
     },
     "execution_count": 58,
     "metadata": {},
     "output_type": "execute_result"
    }
   ],
   "source": [
    "Combined_assist['AST']"
   ]
  },
  {
   "cell_type": "code",
   "execution_count": null,
   "metadata": {},
   "outputs": [],
   "source": [
    " "
   ]
  },
  {
   "cell_type": "code",
   "execution_count": 1,
   "metadata": {},
   "outputs": [],
   "source": [
    "from scipy.stats import ttest_ind\n",
    "\n"
   ]
  },
  {
   "cell_type": "markdown",
   "metadata": {},
   "source": [
    "# Question 1: Can my sister play in a professional female basketball league?\n",
    "\n",
    "As we said, you grandmother is convinced that your sister couldn't play in a professional league because of her physique and weight (her weight is 67kg). \n",
    "\n",
    "To find an actual answer to the question we first need to know what's the average weight of a professional female basketball player. The data we have only refers to the WNBA league and not to every female professional basketball league in the world, therefore we have no way of actually calculating it.\n",
    "\n",
    "Still, given that we do have *some* data we can **infer** it using a sample of players like the one we have. \n",
    "\n",
    "**How would you do it? Try and think about the requirements that your sample must satisfy in order to be used to infer the average weight. Do you feel it actually fulfills those requirements? Do you need to make any assumptions? We could calculate a confidence interval to do the inference, but do you know any other ways?**"
   ]
  },
  {
   "cell_type": "code",
   "execution_count": 11,
   "metadata": {},
   "outputs": [],
   "source": [
    "# your answer here\n"
   ]
  },
  {
   "cell_type": "markdown",
   "metadata": {},
   "source": [
    "**Now that all the requirements have been taken into account, compute the confidence interval of the average weight with a confidence level of 95%.**"
   ]
  },
  {
   "cell_type": "code",
   "execution_count": 6,
   "metadata": {},
   "outputs": [],
   "source": [
    "# your code here"
   ]
  },
  {
   "cell_type": "markdown",
   "metadata": {},
   "source": [
    "**What can you say about these results?**"
   ]
  },
  {
   "cell_type": "code",
   "execution_count": 10,
   "metadata": {},
   "outputs": [],
   "source": [
    "#your-answer-here"
   ]
  },
  {
   "cell_type": "markdown",
   "metadata": {},
   "source": [
    "**If your sister weighs 67kg what would you tell your grandmother in regards to her assumption?**"
   ]
  },
  {
   "cell_type": "code",
   "execution_count": 9,
   "metadata": {},
   "outputs": [],
   "source": [
    "#your-answer-here"
   ]
  },
  {
   "cell_type": "markdown",
   "metadata": {},
   "source": [
    "## Bonus: Can you plot the probability distribution of the average weight, indicating where the critical region is?"
   ]
  },
  {
   "cell_type": "code",
   "execution_count": 8,
   "metadata": {},
   "outputs": [],
   "source": [
    "# your code here"
   ]
  },
  {
   "cell_type": "markdown",
   "metadata": {},
   "source": [
    "# Question 2: Do female professional basketball players fail the majority of their free throws?\n",
    "\n",
    "You do not agree with your sister when she says that most female players fail their free throws. You decide to try and estimate the percentage of players that fail more than 40% of their free throws using, you guessed it, the WNBA sample.\n",
    "\n",
    "**How would you do it? Try and think about the requirements that your sample must satisfy in order to be used to infer the proportion of players that miss more than 40% of their free throws. Do you feel it actually fulfills those requirements? Do you need to make any assumptions?**"
   ]
  },
  {
   "cell_type": "code",
   "execution_count": 10,
   "metadata": {},
   "outputs": [],
   "source": [
    "# your answer here"
   ]
  },
  {
   "cell_type": "markdown",
   "metadata": {},
   "source": [
    "**Now that all the requirements have been taken into account, compute the confidence interval of the proportion with a confidence level of 95%:**"
   ]
  },
  {
   "cell_type": "code",
   "execution_count": 12,
   "metadata": {},
   "outputs": [],
   "source": [
    "# your code here"
   ]
  },
  {
   "cell_type": "markdown",
   "metadata": {},
   "source": [
    "**What can you comment about our result? What would you tell your sister?**"
   ]
  },
  {
   "cell_type": "code",
   "execution_count": 15,
   "metadata": {},
   "outputs": [],
   "source": [
    "#your-answer-here"
   ]
  },
  {
   "cell_type": "markdown",
   "metadata": {},
   "source": [
    "# Bonus: Can you plot the probability distribution of the proportion of missed free throws, indicating where the critical region is?"
   ]
  },
  {
   "cell_type": "code",
   "execution_count": null,
   "metadata": {},
   "outputs": [],
   "source": [
    "#your code here"
   ]
  },
  {
   "cell_type": "markdown",
   "metadata": {},
   "source": [
    "# Question 3: Is the average number of assists for WNBA players only higher than the average for WNBA and NBA players together?"
   ]
  },
  {
   "cell_type": "markdown",
   "metadata": {},
   "source": [
    "Your brother-in-law is convinced that the average assists for female professional players is higher than the average of both female and male players combined (which is 52 for the 2016-2017 season). You would like to actually prove if this is true or not but you remember your stats teacher saying \"you can't *prove* anything, you just can say that *you are not* saying foolishness\".\n",
    "\n",
    "**How would you do it? Try and think about the requirements that your sample must satisfy in order to do that. Do you feel it actually fulfills those requirements? Do you need to make any assumptions?**"
   ]
  },
  {
   "cell_type": "code",
   "execution_count": 16,
   "metadata": {},
   "outputs": [],
   "source": [
    "#your-answer-here"
   ]
  },
  {
   "cell_type": "markdown",
   "metadata": {},
   "source": [
    "**Use a two-tailed one-sample t-test to see if we can reject (or not) the null hypothesis with a 95% confidence level.**"
   ]
  },
  {
   "cell_type": "code",
   "execution_count": 15,
   "metadata": {},
   "outputs": [],
   "source": [
    "#your code here"
   ]
  },
  {
   "cell_type": "code",
   "execution_count": 18,
   "metadata": {},
   "outputs": [],
   "source": [
    "#your-answer-here"
   ]
  },
  {
   "cell_type": "markdown",
   "metadata": {},
   "source": [
    "**Now use a one-tailed one-sample t-test to see if we can reject (or not) the null hypothesis with a 95% confidence level.**"
   ]
  },
  {
   "cell_type": "code",
   "execution_count": 20,
   "metadata": {},
   "outputs": [],
   "source": [
    "#your-answer-here"
   ]
  },
  {
   "cell_type": "markdown",
   "metadata": {},
   "source": [
    "# Bonus: Can you plot the resulting t-distribution of both tests? Indicate where the is the critical region and where does your statistic fall.**"
   ]
  },
  {
   "cell_type": "code",
   "execution_count": null,
   "metadata": {},
   "outputs": [],
   "source": [
    "#your code here"
   ]
  },
  {
   "cell_type": "markdown",
   "metadata": {},
   "source": [
    "# Bonus: Satisfying your curiosity\n",
    "\n",
    "You finally managed to solve your family's debates over basketball! While you were doing that you started to take an interest in the normal distribution.\n",
    "\n",
    "You read that the normal distribution is present in a lot of natural phenomenons, like blood pressure, IQ, weight and height. If, for example, we could plot the distribution of the weights of every human on the planet right now it would have the shape of a normal distribution.\n",
    "\n",
    "In light of this you would like to see if it's possible to check if the distribution of the weights of the WNBA players is a sample distribution that comes from a population that has a normal distribution, because theoretically this should be the case.\n",
    "\n",
    "**How would you try to demonstrate that our sample fits a normal distribution? What kind of test would you use? Would you have to make any assumptions?**"
   ]
  },
  {
   "cell_type": "code",
   "execution_count": 22,
   "metadata": {},
   "outputs": [],
   "source": [
    "#your-answer-here"
   ]
  },
  {
   "cell_type": "code",
   "execution_count": 19,
   "metadata": {},
   "outputs": [],
   "source": [
    "# your code here"
   ]
  },
  {
   "cell_type": "markdown",
   "metadata": {},
   "source": [
    "**What are your comments in regards to the results of the test?**"
   ]
  },
  {
   "cell_type": "code",
   "execution_count": 24,
   "metadata": {},
   "outputs": [],
   "source": [
    "#your-answer-here"
   ]
  }
 ],
 "metadata": {
  "kernelspec": {
   "display_name": "Python 3",
   "language": "python",
   "name": "python3"
  },
  "language_info": {
   "codemirror_mode": {
    "name": "ipython",
    "version": 3
   },
   "file_extension": ".py",
   "mimetype": "text/x-python",
   "name": "python",
   "nbconvert_exporter": "python",
   "pygments_lexer": "ipython3",
   "version": "3.7.6"
  }
 },
 "nbformat": 4,
 "nbformat_minor": 2
}
